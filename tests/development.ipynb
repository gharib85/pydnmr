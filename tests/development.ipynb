{
 "cells": [
  {
   "cell_type": "code",
   "execution_count": 2,
   "metadata": {
    "collapsed": true
   },
   "outputs": [],
   "source": [
    "import numpy as np"
   ]
  },
  {
   "cell_type": "code",
   "execution_count": 3,
   "metadata": {},
   "outputs": [],
   "source": [
    "import matplotlib.pyplot as plt\n",
    "import seaborn as sns\n",
    "rc={'lines.linewidth': 2, 'axes.labelsize': 14, 'axes.titlesize': 14}\n",
    "sns.set(rc=rc)"
   ]
  },
  {
   "cell_type": "code",
   "execution_count": 4,
   "metadata": {},
   "outputs": [],
   "source": [
    "%matplotlib inline"
   ]
  },
  {
   "cell_type": "code",
   "execution_count": 5,
   "metadata": {},
   "outputs": [],
   "source": [
    "from pydnmr import dnmrplot"
   ]
  },
  {
   "cell_type": "code",
   "execution_count": 6,
   "metadata": {},
   "outputs": [],
   "source": [
    "WINDNMR_DEFAULTS = (165.00, 135.00, 1.50, 0.50, 0.50, 50.00)\n",
    "x, y = dnmrplot.dnmrplot_2spin(*WINDNMR_DEFAULTS)"
   ]
  },
  {
   "cell_type": "code",
   "execution_count": 7,
   "metadata": {},
   "outputs": [
    {
     "data": {
      "text/plain": [
       "[<matplotlib.lines.Line2D at 0x114146b38>]"
      ]
     },
     "execution_count": 6,
     "metadata": {},
     "output_type": "execute_result"
    },
    {
     "data": {
      "image/png": "[encoded data removed]",
      "text/plain": [
       "<matplotlib.figure.Figure at 0x111b9c7b8>"
      ]
     },
     "metadata": {},
     "output_type": "display_data"
    }
   ],
   "source": [
    "plt.plot(x, y)"
   ]
  },
  {
   "cell_type": "code",
   "execution_count": 8,
   "metadata": {},
   "outputs": [
    {
     "name": "stdout",
     "output_type": "stream",
     "text": [
      "85.0 215.0\n1.21342219919e-05 0.160816931076\n"
     ]
    }
   ],
   "source": [
    "min(x)\n",
    "max(x)\n",
    "print(min(x), max(x))\n",
    "print(min(y), max(y))"
   ]
  },
  {
   "cell_type": "code",
   "execution_count": 9,
   "metadata": {},
   "outputs": [
    {
     "name": "stdout",
     "output_type": "stream",
     "text": [
      "[ 0.67193225  0.10011451  0.63195174  0.89345958  0.82902107  0.14651985\n  0.21634796  0.09617184  0.68585834  0.20842452]\n0.631951743659\n"
     ]
    }
   ],
   "source": [
    "def find_nearest(array,value):\n",
    "    idx = (np.abs(array-value)).argmin()\n",
    "    return array[idx]\n",
    "\n",
    "array = np.random.random(10)\n",
    "print(array)\n",
    "# [ 0.21069679  0.61290182  0.63425412  0.84635244  0.91599191  0.00213826\n",
    "#   0.17104965  0.56874386  0.57319379  0.28719469]\n",
    "\n",
    "value = 0.5\n",
    "\n",
    "print(find_nearest(array, value))\n",
    "# 0.568743859261"
   ]
  },
  {
   "cell_type": "code",
   "execution_count": 20,
   "metadata": {},
   "outputs": [
    {
     "name": "stdout",
     "output_type": "stream",
     "text": [
      "MAXIMUM FOUND AT: \n(134.94993742177724, 0.16081693107628181)\nMAXIMUM FOUND AT: \n(165.05006257822276, 0.16081693107628181)\n[(134.94993742177724, 0.16081693107628181), (165.05006257822276, 0.16081693107628181)]\n"
     ]
    }
   ],
   "source": [
    "def get_maxima(spectrum):\n",
    "    \"\"\"\n",
    "    Crude function that returns maxima in the spectrum.\n",
    "    :param spectrum: tuple of frequency, intensity arrays\n",
    "    :return: a list of (frequency, intensity) tuples for individual maxima.\n",
    "    \"\"\"\n",
    "    res = []\n",
    "    for n, val in enumerate(spectrum[1][1:-2]):\n",
    "        index = n+1  # start at spectrum[1][1]\n",
    "        lastvalue = spectrum[1][index-1]\n",
    "        nextvalue = spectrum[1][index+1]\n",
    "        if (lastvalue < val and \n",
    "                    nextvalue < val):\n",
    "            print('MAXIMUM FOUND AT: ')\n",
    "            print((spectrum[0][index], val))\n",
    "            res.append((spectrum[0][index], val))\n",
    "    return res\n",
    "\n",
    "print(get_maxima((x, y)))"
   ]
  },
  {
   "cell_type": "code",
   "execution_count": 14,
   "metadata": {},
   "outputs": [
    {
     "name": "stdout",
     "output_type": "stream",
     "text": [
      "0 1.22103164707e-05\nx:  85.0 y:  1.22103164707e-05\n1 1.22871542461e-05\nx:  85.1627033792 y:  1.22871542461e-05\n2 1.23647452128e-05\nx:  85.3254067584 y:  1.23647452128e-05\n3 1.24430994321e-05\nx:  85.4881101377 y:  1.24430994321e-05\n"
     ]
    }
   ],
   "source": [
    "for i, val in enumerate(y[1:-795]):\n",
    "    print(i, val)\n",
    "    print('x: ', x[i], 'y: ', val)"
   ]
  },
  {
   "cell_type": "code",
   "execution_count": 11,
   "metadata": {},
   "outputs": [
    {
     "name": "stdout",
     "output_type": "stream",
     "text": [
      "0.160816931076\n0.160816931076\n0.000514195864454\n"
     ]
    }
   ],
   "source": [
    "def get_intensity(spectrum, x):\n",
    "    \"\"\"\n",
    "    A quick and dirt method to get intensity of data point closest to \n",
    "    frequency x. Better: interpolate between two data points if match isn't \n",
    "    exact (TODO?)\n",
    "    param spectrum: tuple of (x, y) arrays for frequency, intensity data\n",
    "    :param x: frequency lookup\n",
    "    :return: the intensity at that frequency\n",
    "    \"\"\"\n",
    "    nearest_x_index =np.abs(spectrum[0] - x).argmin()\n",
    "    return spectrum[1][nearest_x_index] \n",
    "\n",
    "print(get_intensity((x, y), 165))\n",
    "print(get_intensity((x, y), 135))\n",
    "print(get_intensity((x, y), 150))"
   ]
  },
  {
   "cell_type": "code",
   "execution_count": 9,
   "metadata": {},
   "outputs": [
    {
     "name": "stdout",
     "output_type": "stream",
     "text": [
      "Something went wrong\n"
     ]
    }
   ],
   "source": [
    "try:\n",
    "    print(2 / spam)\n",
    "except ZeroDivisionError:\n",
    "    print('Division by zero is not allowed!')\n",
    "except Exception:\n",
    "    print('Something went wrong')\n",
    "else:\n",
    "    print('It worked!')"
   ]
  },
  {
   "cell_type": "code",
   "execution_count": null,
   "metadata": {},
   "outputs": [],
   "source": [
    ""
   ]
  }
 ],
 "metadata": {
  "kernelspec": {
   "display_name": "Python 2",
   "language": "python",
   "name": "python2"
  },
  "language_info": {
   "codemirror_mode": {
    "name": "ipython",
    "version": 2.0
   },
   "file_extension": ".py",
   "mimetype": "text/x-python",
   "name": "python",
   "nbconvert_exporter": "python",
   "pygments_lexer": "ipython2",
   "version": "2.7.6"
  }
 },
 "nbformat": 4,
 "nbformat_minor": 0
}